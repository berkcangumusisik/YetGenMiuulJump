{
 "cells": [
  {
   "cell_type": "markdown",
   "metadata": {},
   "source": [
    "# Makine Öğrenmesi ile Yetenek Avcılığı Sınıflandırma\n",
    "\n",
    "### İş Problemi\n",
    "Scout’lar tarafından izlenen futbolcuların özelliklerine verilen puanlara göre, oyuncuların hangi sınıf(average, highlighted) oyuncu olduğunu tahminleme.\n",
    "\n",
    "Scout: Gözlemci ya da yetenek avcısı, gelecek vadettiği düşünülen sporcuları gözlemleyerek mevcut yeteneklerini ve potansiyellerini tespit eden uzman kişi\n",
    "\n",
    "### Veri Seti Hikayesi\n",
    "Veri seti Scoutium’dan maçlarda gözlemlenen futbolcuların özelliklerine göre scoutların değerlendirdikleri futbolcuların, maç\n",
    "içerisinde puanlanan özellikleri ve puanlarını içeren bilgilerden oluşmaktadır.\n",
    "\n",
    "##### scoutium_attributes.csv\n",
    "- task_response_id : Bir scoutun bir maçta bir takımın kadrosundaki tüm oyunculara dair değerlendirmelerinin kümesi\n",
    "- match_id : Maçın id’si\n",
    "- evaluation_id : Değerlendirici id’si\n",
    "- player_id : Oyuncunun id’si\n",
    "- position_id : Oyuncunun pozisyonu\n",
    "        - 1. Kaleci\n",
    "        - 2. Stopper\n",
    "        - 3. Sağ Bek\n",
    "        - 4. Sol Bek\n",
    "        - 5. Defansif Orta Saha\n",
    "        - 6. Merkezi Orta Saha\n",
    "        - 7. Sağ Kanat\n",
    "        - 8. Sol Kanat\n",
    "        - 9. Ofansif Orta Saha\n",
    "        - 10. Forvet\n",
    "- analysis_id : Bir scoutun bir maçta bir oyuncuya dair özellik değerlendirmelerini içeren küme\n",
    "- attribute_id : Oyuncuların değerlendirildiği her bir özelliğin id'si\n",
    "- attribute_value : Bir scoutun bir oyuncunun bir özelliğine verdiği değer(puan)\n",
    "\n",
    "##### scoutium_potential_labels.csv\n",
    "- task_response_id :  Bir scoutun bir maçta bir takımın kadrosundaki tüm oyunculara dair değerlendirmelerinin kümesi\n",
    "- match_id : İlgili maçın id'si\n",
    "- evaluator_id :  Değerlendiricinin(scout'un) id'si\n",
    "- player_id : İlgili oyuncunun id'si\n",
    "- potential_label : Bir scoutun bir maçta bir oyuncuyla ilgili nihai kararını belirten etiket. (hedef değişken)"
   ]
  },
  {
   "cell_type": "markdown",
   "metadata": {},
   "source": [
    "Adım 1: scoutium_attributes.csv ve scoutium_potential_labels.csv dosyalarını okutunuz.\n"
   ]
  },
  {
   "cell_type": "code",
   "execution_count": 1,
   "metadata": {},
   "outputs": [],
   "source": [
    "import pandas as pd\n",
    "pd.set_option('display.max_columns', None)\n",
    "from sklearn.model_selection import *\n",
    "from sklearn.preprocessing import LabelEncoder, StandardScaler\n",
    "from sklearn.model_selection import cross_val_predict\n",
    "import pandas as pd\n",
    "from lightgbm import LGBMClassifier\n",
    "from sklearn.ensemble import RandomForestClassifier, GradientBoostingClassifier, VotingClassifier, AdaBoostClassifier\n",
    "from sklearn.linear_model import LogisticRegression\n",
    "from sklearn.model_selection import cross_validate, GridSearchCV\n",
    "from sklearn.neighbors import KNeighborsClassifier\n",
    "from sklearn.preprocessing import StandardScaler\n",
    "from sklearn.svm import SVC\n",
    "from sklearn.tree import DecisionTreeClassifier\n",
    "from xgboost import XGBClassifier\n",
    "from catboost import CatBoostClassifier\n",
    "import seaborn as sns\n",
    "import matplotlib.pyplot as plt\n",
    "\n",
    "pd.set_option('display.max_columns', None)\n",
    "pd.set_option('display.max_rows', None)\n",
    "pd.set_option('display.width', None)\n",
    "pd.set_option('display.float_format', lambda x: '%.3f' % x)"
   ]
  },
  {
   "cell_type": "code",
   "execution_count": 2,
   "metadata": {},
   "outputs": [
    {
     "data": {
      "text/html": [
       "<div>\n",
       "<style scoped>\n",
       "    .dataframe tbody tr th:only-of-type {\n",
       "        vertical-align: middle;\n",
       "    }\n",
       "\n",
       "    .dataframe tbody tr th {\n",
       "        vertical-align: top;\n",
       "    }\n",
       "\n",
       "    .dataframe thead th {\n",
       "        text-align: right;\n",
       "    }\n",
       "</style>\n",
       "<table border=\"1\" class=\"dataframe\">\n",
       "  <thead>\n",
       "    <tr style=\"text-align: right;\">\n",
       "      <th></th>\n",
       "      <th>task_response_id</th>\n",
       "      <th>match_id</th>\n",
       "      <th>evaluator_id</th>\n",
       "      <th>player_id</th>\n",
       "      <th>position_id</th>\n",
       "      <th>analysis_id</th>\n",
       "      <th>attribute_id</th>\n",
       "      <th>attribute_value</th>\n",
       "    </tr>\n",
       "  </thead>\n",
       "  <tbody>\n",
       "    <tr>\n",
       "      <th>0</th>\n",
       "      <td>4915</td>\n",
       "      <td>62935</td>\n",
       "      <td>177676</td>\n",
       "      <td>1361061</td>\n",
       "      <td>2</td>\n",
       "      <td>12818495</td>\n",
       "      <td>4322</td>\n",
       "      <td>56.000</td>\n",
       "    </tr>\n",
       "    <tr>\n",
       "      <th>1</th>\n",
       "      <td>4915</td>\n",
       "      <td>62935</td>\n",
       "      <td>177676</td>\n",
       "      <td>1361061</td>\n",
       "      <td>2</td>\n",
       "      <td>12818495</td>\n",
       "      <td>4323</td>\n",
       "      <td>56.000</td>\n",
       "    </tr>\n",
       "    <tr>\n",
       "      <th>2</th>\n",
       "      <td>4915</td>\n",
       "      <td>62935</td>\n",
       "      <td>177676</td>\n",
       "      <td>1361061</td>\n",
       "      <td>2</td>\n",
       "      <td>12818495</td>\n",
       "      <td>4324</td>\n",
       "      <td>67.000</td>\n",
       "    </tr>\n",
       "    <tr>\n",
       "      <th>3</th>\n",
       "      <td>4915</td>\n",
       "      <td>62935</td>\n",
       "      <td>177676</td>\n",
       "      <td>1361061</td>\n",
       "      <td>2</td>\n",
       "      <td>12818495</td>\n",
       "      <td>4325</td>\n",
       "      <td>56.000</td>\n",
       "    </tr>\n",
       "    <tr>\n",
       "      <th>4</th>\n",
       "      <td>4915</td>\n",
       "      <td>62935</td>\n",
       "      <td>177676</td>\n",
       "      <td>1361061</td>\n",
       "      <td>2</td>\n",
       "      <td>12818495</td>\n",
       "      <td>4326</td>\n",
       "      <td>45.000</td>\n",
       "    </tr>\n",
       "  </tbody>\n",
       "</table>\n",
       "</div>"
      ],
      "text/plain": [
       "   task_response_id  match_id  evaluator_id  player_id  position_id   \n",
       "0              4915     62935        177676    1361061            2  \\\n",
       "1              4915     62935        177676    1361061            2   \n",
       "2              4915     62935        177676    1361061            2   \n",
       "3              4915     62935        177676    1361061            2   \n",
       "4              4915     62935        177676    1361061            2   \n",
       "\n",
       "   analysis_id  attribute_id  attribute_value  \n",
       "0     12818495          4322           56.000  \n",
       "1     12818495          4323           56.000  \n",
       "2     12818495          4324           67.000  \n",
       "3     12818495          4325           56.000  \n",
       "4     12818495          4326           45.000  "
      ]
     },
     "execution_count": 2,
     "metadata": {},
     "output_type": "execute_result"
    }
   ],
   "source": [
    "df = pd.read_csv(\"datasets/scoutium_attributes.csv\",sep=\";\")\n",
    "df.head()"
   ]
  },
  {
   "cell_type": "code",
   "execution_count": 3,
   "metadata": {},
   "outputs": [
    {
     "data": {
      "text/plain": [
       "(10730, 8)"
      ]
     },
     "execution_count": 3,
     "metadata": {},
     "output_type": "execute_result"
    }
   ],
   "source": [
    "df.shape"
   ]
  },
  {
   "cell_type": "code",
   "execution_count": 4,
   "metadata": {},
   "outputs": [
    {
     "data": {
      "text/html": [
       "<div>\n",
       "<style scoped>\n",
       "    .dataframe tbody tr th:only-of-type {\n",
       "        vertical-align: middle;\n",
       "    }\n",
       "\n",
       "    .dataframe tbody tr th {\n",
       "        vertical-align: top;\n",
       "    }\n",
       "\n",
       "    .dataframe thead th {\n",
       "        text-align: right;\n",
       "    }\n",
       "</style>\n",
       "<table border=\"1\" class=\"dataframe\">\n",
       "  <thead>\n",
       "    <tr style=\"text-align: right;\">\n",
       "      <th></th>\n",
       "      <th>task_response_id</th>\n",
       "      <th>match_id</th>\n",
       "      <th>evaluator_id</th>\n",
       "      <th>player_id</th>\n",
       "      <th>potential_label</th>\n",
       "    </tr>\n",
       "  </thead>\n",
       "  <tbody>\n",
       "    <tr>\n",
       "      <th>0</th>\n",
       "      <td>4915</td>\n",
       "      <td>62935</td>\n",
       "      <td>177676</td>\n",
       "      <td>1361061</td>\n",
       "      <td>average</td>\n",
       "    </tr>\n",
       "    <tr>\n",
       "      <th>1</th>\n",
       "      <td>4915</td>\n",
       "      <td>62935</td>\n",
       "      <td>177676</td>\n",
       "      <td>1361626</td>\n",
       "      <td>highlighted</td>\n",
       "    </tr>\n",
       "    <tr>\n",
       "      <th>2</th>\n",
       "      <td>4915</td>\n",
       "      <td>62935</td>\n",
       "      <td>177676</td>\n",
       "      <td>1361858</td>\n",
       "      <td>average</td>\n",
       "    </tr>\n",
       "    <tr>\n",
       "      <th>3</th>\n",
       "      <td>4915</td>\n",
       "      <td>62935</td>\n",
       "      <td>177676</td>\n",
       "      <td>1362220</td>\n",
       "      <td>highlighted</td>\n",
       "    </tr>\n",
       "    <tr>\n",
       "      <th>4</th>\n",
       "      <td>4915</td>\n",
       "      <td>62935</td>\n",
       "      <td>177676</td>\n",
       "      <td>1364951</td>\n",
       "      <td>highlighted</td>\n",
       "    </tr>\n",
       "  </tbody>\n",
       "</table>\n",
       "</div>"
      ],
      "text/plain": [
       "   task_response_id  match_id  evaluator_id  player_id potential_label\n",
       "0              4915     62935        177676    1361061         average\n",
       "1              4915     62935        177676    1361626     highlighted\n",
       "2              4915     62935        177676    1361858         average\n",
       "3              4915     62935        177676    1362220     highlighted\n",
       "4              4915     62935        177676    1364951     highlighted"
      ]
     },
     "execution_count": 4,
     "metadata": {},
     "output_type": "execute_result"
    }
   ],
   "source": [
    "df2 = pd.read_csv(\"datasets/scoutium_potential_labels.csv\",sep=\";\")\n",
    "df2.head()"
   ]
  },
  {
   "cell_type": "code",
   "execution_count": 5,
   "metadata": {},
   "outputs": [
    {
     "data": {
      "text/plain": [
       "(322, 5)"
      ]
     },
     "execution_count": 5,
     "metadata": {},
     "output_type": "execute_result"
    }
   ],
   "source": [
    "df2.shape"
   ]
  },
  {
   "cell_type": "markdown",
   "metadata": {},
   "source": [
    "Adım 2: Okutmuş olduğumuz csv dosyalarını merge fonksiyonunu kullanarak birleştirelim.  (\"task_response_id\", 'match_id', 'evaluator_id' \"player_id\"  4 adet değişken üzerinden birleştirme işlemini gerçekleştiriniz.)\n"
   ]
  },
  {
   "cell_type": "code",
   "execution_count": 6,
   "metadata": {},
   "outputs": [],
   "source": [
    "dff = pd.merge(df, df2, how='left', on=[\"task_response_id\", 'match_id', 'evaluator_id', \"player_id\"])\n"
   ]
  },
  {
   "cell_type": "markdown",
   "metadata": {},
   "source": [
    "Adım 3:  position_id içerisindeki Kaleci (1) sınıfını veri setinden kaldırınız."
   ]
  },
  {
   "cell_type": "code",
   "execution_count": 7,
   "metadata": {},
   "outputs": [],
   "source": [
    "dff = dff[dff[\"position_id\"] != 1]"
   ]
  },
  {
   "cell_type": "markdown",
   "metadata": {},
   "source": [
    "Adım 4: potential_label içerisindeki below_average sınıfını veri setinden kaldırınız.( below_average sınıfı tüm verisetinin %1'ini oluşturur)\n"
   ]
  },
  {
   "cell_type": "code",
   "execution_count": 8,
   "metadata": {},
   "outputs": [],
   "source": [
    "dff=dff[dff[\"potential_label\"]!=\"below_average\"]\n"
   ]
  },
  {
   "cell_type": "markdown",
   "metadata": {},
   "source": [
    "Adım 5: Oluşturduğunuz veri setinden “pivot_table” fonksiyonunu kullanarak bir tablo oluşturunuz. Bu pivot table'da her satırda bir oyuncu\n",
    "olacak şekilde manipülasyon yapınız.\n",
    "Görevler\n",
    "\n",
    "    Adım 1: İndekste “player_id”,“position_id” ve “potential_label”, sütunlarda “attribute_id” ve değerlerde scout’ların oyunculara verdiği puan\n",
    "    “attribute_value” olacak şekilde pivot table’ı oluşturunuz."
   ]
  },
  {
   "cell_type": "code",
   "execution_count": 9,
   "metadata": {},
   "outputs": [],
   "source": [
    "pt = pd.pivot_table(dff, values=\"attribute_value\", columns=\"attribute_id\", index=[\"player_id\",\"position_id\",\"potential_label\"])\n"
   ]
  },
  {
   "cell_type": "markdown",
   "metadata": {},
   "source": [
    "        #Adım2: \"resert_index fonksiyonunu kullanarak, index hatasından kurtulunuz. # ve \"attribute_id\" sütunlarının isimlerini stringe çeviriniz."
   ]
  },
  {
   "cell_type": "code",
   "execution_count": 10,
   "metadata": {},
   "outputs": [],
   "source": [
    "pt = pt.reset_index(drop=False)\n",
    "\n",
    "pt.columns = pt.columns.map(str)"
   ]
  },
  {
   "cell_type": "markdown",
   "metadata": {},
   "source": [
    "Adım 6: Label Encoder fonksiyonunu kullanarak “potential_label” kategorilerini (average, highlighted) sayısal olarak ifade ediniz.\n"
   ]
  },
  {
   "cell_type": "code",
   "execution_count": 11,
   "metadata": {},
   "outputs": [],
   "source": [
    "le = LabelEncoder()\n",
    "pt[\"potential_label\"] = le.fit_transform(pt[\"potential_label\"])"
   ]
  },
  {
   "cell_type": "markdown",
   "metadata": {},
   "source": [
    "Adım 7: Sayısal değişken kolonlarını “num_cols” adıyla bir listeye atayınız.\n"
   ]
  },
  {
   "cell_type": "code",
   "execution_count": 12,
   "metadata": {},
   "outputs": [],
   "source": [
    "num_cols=pt.columns[3:]"
   ]
  },
  {
   "cell_type": "markdown",
   "metadata": {},
   "source": [
    "Adım 8: Kaydettiğiniz bütün “num_cols” değişkenlerindeki veriyi ölçeklendirmek için StandardScaler uygulayınız.\n"
   ]
  },
  {
   "cell_type": "code",
   "execution_count": 13,
   "metadata": {},
   "outputs": [],
   "source": [
    "scaler=StandardScaler()\n",
    "pt[num_cols]=scaler.fit_transform(pt[num_cols])\n"
   ]
  },
  {
   "cell_type": "markdown",
   "metadata": {},
   "source": [
    "Adım 9: Elimizdeki veri seti üzerinden minimum hata ile futbolcuların potansiyel etiketlerini tahmin eden bir makine öğrenmesi modeli\n",
    "geliştiriniz. (Roc_auc, f1, precision, recall, accuracy metriklerini yazdırınız.)"
   ]
  },
  {
   "cell_type": "code",
   "execution_count": 14,
   "metadata": {},
   "outputs": [
    {
     "name": "stderr",
     "output_type": "stream",
     "text": [
      "c:\\Users\\Berk\\AppData\\Local\\Programs\\Python\\Python311\\Lib\\site-packages\\xgboost\\sklearn.py:1395: UserWarning: `use_label_encoder` is deprecated in 1.7.0.\n",
      "  warnings.warn(\"`use_label_encoder` is deprecated in 1.7.0.\")\n"
     ]
    },
    {
     "name": "stdout",
     "output_type": "stream",
     "text": [
      "LR\n",
      "roc_auc score:0.8332276250880903\n",
      "f1 score:0.5545454545454545\n",
      "precision score:0.6825974025974025\n",
      "recall score:0.4818181818181818\n",
      "accuracy score:0.8451178451178452\n",
      "KNN\n",
      "roc_auc score:0.7462825933756166\n",
      "f1 score:0.3825062656641604\n",
      "precision score:0.8547619047619047\n",
      "recall score:0.2636363636363636\n",
      "accuracy score:0.8375084175084175\n",
      "SVC\n",
      "roc_auc score:0.8384073291050035\n",
      "f1 score:0.06666666666666668\n"
     ]
    },
    {
     "name": "stderr",
     "output_type": "stream",
     "text": [
      "c:\\Users\\Berk\\AppData\\Local\\Programs\\Python\\Python311\\Lib\\site-packages\\sklearn\\metrics\\_classification.py:1344: UndefinedMetricWarning: Precision is ill-defined and being set to 0.0 due to no predicted samples. Use `zero_division` parameter to control this behavior.\n",
      "  _warn_prf(average, modifier, msg_start, len(result))\n",
      "c:\\Users\\Berk\\AppData\\Local\\Programs\\Python\\Python311\\Lib\\site-packages\\sklearn\\metrics\\_classification.py:1344: UndefinedMetricWarning: Precision is ill-defined and being set to 0.0 due to no predicted samples. Use `zero_division` parameter to control this behavior.\n",
      "  _warn_prf(average, modifier, msg_start, len(result))\n",
      "c:\\Users\\Berk\\AppData\\Local\\Programs\\Python\\Python311\\Lib\\site-packages\\sklearn\\metrics\\_classification.py:1344: UndefinedMetricWarning: Precision is ill-defined and being set to 0.0 due to no predicted samples. Use `zero_division` parameter to control this behavior.\n",
      "  _warn_prf(average, modifier, msg_start, len(result))\n"
     ]
    },
    {
     "name": "stdout",
     "output_type": "stream",
     "text": [
      "precision score:0.4\n",
      "recall score:0.03636363636363636\n",
      "accuracy score:0.8008080808080809\n",
      "CART\n",
      "roc_auc score:0.7057787174066243\n",
      "f1 score:0.523872783563186\n",
      "precision score:0.5300802139037433\n",
      "recall score:0.5863636363636364\n",
      "accuracy score:0.800942760942761\n",
      "RF\n",
      "roc_auc score:0.895736434108527\n",
      "f1 score:0.6202115583075335\n",
      "precision score:0.8822222222222221\n",
      "recall score:0.4606060606060606\n",
      "accuracy score:0.8783164983164984\n",
      "Adaboost\n",
      "roc_auc score:0.8466878083157153\n",
      "f1 score:0.622438449063836\n",
      "precision score:0.7108730158730159\n",
      "recall score:0.5848484848484848\n",
      "accuracy score:0.8562289562289562\n",
      "GBM\n",
      "roc_auc score:0.8743833685694151\n",
      "f1 score:0.5853081232492998\n",
      "precision score:0.7576190476190476\n",
      "recall score:0.5666666666666667\n",
      "accuracy score:0.8708417508417508\n",
      "XGBoost\n"
     ]
    },
    {
     "name": "stderr",
     "output_type": "stream",
     "text": [
      "c:\\Users\\Berk\\AppData\\Local\\Programs\\Python\\Python311\\Lib\\site-packages\\xgboost\\sklearn.py:1395: UserWarning: `use_label_encoder` is deprecated in 1.7.0.\n",
      "  warnings.warn(\"`use_label_encoder` is deprecated in 1.7.0.\")\n",
      "c:\\Users\\Berk\\AppData\\Local\\Programs\\Python\\Python311\\Lib\\site-packages\\xgboost\\sklearn.py:1395: UserWarning: `use_label_encoder` is deprecated in 1.7.0.\n",
      "  warnings.warn(\"`use_label_encoder` is deprecated in 1.7.0.\")\n",
      "c:\\Users\\Berk\\AppData\\Local\\Programs\\Python\\Python311\\Lib\\site-packages\\xgboost\\sklearn.py:1395: UserWarning: `use_label_encoder` is deprecated in 1.7.0.\n",
      "  warnings.warn(\"`use_label_encoder` is deprecated in 1.7.0.\")\n",
      "c:\\Users\\Berk\\AppData\\Local\\Programs\\Python\\Python311\\Lib\\site-packages\\xgboost\\sklearn.py:1395: UserWarning: `use_label_encoder` is deprecated in 1.7.0.\n",
      "  warnings.warn(\"`use_label_encoder` is deprecated in 1.7.0.\")\n",
      "c:\\Users\\Berk\\AppData\\Local\\Programs\\Python\\Python311\\Lib\\site-packages\\xgboost\\sklearn.py:1395: UserWarning: `use_label_encoder` is deprecated in 1.7.0.\n",
      "  warnings.warn(\"`use_label_encoder` is deprecated in 1.7.0.\")\n"
     ]
    },
    {
     "name": "stdout",
     "output_type": "stream",
     "text": [
      "roc_auc score:0.8540873854827342\n"
     ]
    },
    {
     "name": "stderr",
     "output_type": "stream",
     "text": [
      "c:\\Users\\Berk\\AppData\\Local\\Programs\\Python\\Python311\\Lib\\site-packages\\xgboost\\sklearn.py:1395: UserWarning: `use_label_encoder` is deprecated in 1.7.0.\n",
      "  warnings.warn(\"`use_label_encoder` is deprecated in 1.7.0.\")\n",
      "c:\\Users\\Berk\\AppData\\Local\\Programs\\Python\\Python311\\Lib\\site-packages\\xgboost\\sklearn.py:1395: UserWarning: `use_label_encoder` is deprecated in 1.7.0.\n",
      "  warnings.warn(\"`use_label_encoder` is deprecated in 1.7.0.\")\n",
      "c:\\Users\\Berk\\AppData\\Local\\Programs\\Python\\Python311\\Lib\\site-packages\\xgboost\\sklearn.py:1395: UserWarning: `use_label_encoder` is deprecated in 1.7.0.\n",
      "  warnings.warn(\"`use_label_encoder` is deprecated in 1.7.0.\")\n",
      "c:\\Users\\Berk\\AppData\\Local\\Programs\\Python\\Python311\\Lib\\site-packages\\xgboost\\sklearn.py:1395: UserWarning: `use_label_encoder` is deprecated in 1.7.0.\n",
      "  warnings.warn(\"`use_label_encoder` is deprecated in 1.7.0.\")\n",
      "c:\\Users\\Berk\\AppData\\Local\\Programs\\Python\\Python311\\Lib\\site-packages\\xgboost\\sklearn.py:1395: UserWarning: `use_label_encoder` is deprecated in 1.7.0.\n",
      "  warnings.warn(\"`use_label_encoder` is deprecated in 1.7.0.\")\n",
      "c:\\Users\\Berk\\AppData\\Local\\Programs\\Python\\Python311\\Lib\\site-packages\\xgboost\\sklearn.py:1395: UserWarning: `use_label_encoder` is deprecated in 1.7.0.\n",
      "  warnings.warn(\"`use_label_encoder` is deprecated in 1.7.0.\")\n"
     ]
    },
    {
     "name": "stdout",
     "output_type": "stream",
     "text": [
      "f1 score:0.6078282828282828\n"
     ]
    },
    {
     "name": "stderr",
     "output_type": "stream",
     "text": [
      "c:\\Users\\Berk\\AppData\\Local\\Programs\\Python\\Python311\\Lib\\site-packages\\xgboost\\sklearn.py:1395: UserWarning: `use_label_encoder` is deprecated in 1.7.0.\n",
      "  warnings.warn(\"`use_label_encoder` is deprecated in 1.7.0.\")\n",
      "c:\\Users\\Berk\\AppData\\Local\\Programs\\Python\\Python311\\Lib\\site-packages\\xgboost\\sklearn.py:1395: UserWarning: `use_label_encoder` is deprecated in 1.7.0.\n",
      "  warnings.warn(\"`use_label_encoder` is deprecated in 1.7.0.\")\n",
      "c:\\Users\\Berk\\AppData\\Local\\Programs\\Python\\Python311\\Lib\\site-packages\\xgboost\\sklearn.py:1395: UserWarning: `use_label_encoder` is deprecated in 1.7.0.\n",
      "  warnings.warn(\"`use_label_encoder` is deprecated in 1.7.0.\")\n",
      "c:\\Users\\Berk\\AppData\\Local\\Programs\\Python\\Python311\\Lib\\site-packages\\xgboost\\sklearn.py:1395: UserWarning: `use_label_encoder` is deprecated in 1.7.0.\n",
      "  warnings.warn(\"`use_label_encoder` is deprecated in 1.7.0.\")\n"
     ]
    },
    {
     "name": "stdout",
     "output_type": "stream",
     "text": [
      "precision score:0.732987012987013\n"
     ]
    },
    {
     "name": "stderr",
     "output_type": "stream",
     "text": [
      "c:\\Users\\Berk\\AppData\\Local\\Programs\\Python\\Python311\\Lib\\site-packages\\xgboost\\sklearn.py:1395: UserWarning: `use_label_encoder` is deprecated in 1.7.0.\n",
      "  warnings.warn(\"`use_label_encoder` is deprecated in 1.7.0.\")\n",
      "c:\\Users\\Berk\\AppData\\Local\\Programs\\Python\\Python311\\Lib\\site-packages\\xgboost\\sklearn.py:1395: UserWarning: `use_label_encoder` is deprecated in 1.7.0.\n",
      "  warnings.warn(\"`use_label_encoder` is deprecated in 1.7.0.\")\n",
      "c:\\Users\\Berk\\AppData\\Local\\Programs\\Python\\Python311\\Lib\\site-packages\\xgboost\\sklearn.py:1395: UserWarning: `use_label_encoder` is deprecated in 1.7.0.\n",
      "  warnings.warn(\"`use_label_encoder` is deprecated in 1.7.0.\")\n",
      "c:\\Users\\Berk\\AppData\\Local\\Programs\\Python\\Python311\\Lib\\site-packages\\xgboost\\sklearn.py:1395: UserWarning: `use_label_encoder` is deprecated in 1.7.0.\n",
      "  warnings.warn(\"`use_label_encoder` is deprecated in 1.7.0.\")\n",
      "c:\\Users\\Berk\\AppData\\Local\\Programs\\Python\\Python311\\Lib\\site-packages\\xgboost\\sklearn.py:1395: UserWarning: `use_label_encoder` is deprecated in 1.7.0.\n",
      "  warnings.warn(\"`use_label_encoder` is deprecated in 1.7.0.\")\n"
     ]
    },
    {
     "name": "stdout",
     "output_type": "stream",
     "text": [
      "recall score:0.55\n"
     ]
    },
    {
     "name": "stderr",
     "output_type": "stream",
     "text": [
      "c:\\Users\\Berk\\AppData\\Local\\Programs\\Python\\Python311\\Lib\\site-packages\\xgboost\\sklearn.py:1395: UserWarning: `use_label_encoder` is deprecated in 1.7.0.\n",
      "  warnings.warn(\"`use_label_encoder` is deprecated in 1.7.0.\")\n",
      "c:\\Users\\Berk\\AppData\\Local\\Programs\\Python\\Python311\\Lib\\site-packages\\xgboost\\sklearn.py:1395: UserWarning: `use_label_encoder` is deprecated in 1.7.0.\n",
      "  warnings.warn(\"`use_label_encoder` is deprecated in 1.7.0.\")\n",
      "c:\\Users\\Berk\\AppData\\Local\\Programs\\Python\\Python311\\Lib\\site-packages\\xgboost\\sklearn.py:1395: UserWarning: `use_label_encoder` is deprecated in 1.7.0.\n",
      "  warnings.warn(\"`use_label_encoder` is deprecated in 1.7.0.\")\n",
      "c:\\Users\\Berk\\AppData\\Local\\Programs\\Python\\Python311\\Lib\\site-packages\\xgboost\\sklearn.py:1395: UserWarning: `use_label_encoder` is deprecated in 1.7.0.\n",
      "  warnings.warn(\"`use_label_encoder` is deprecated in 1.7.0.\")\n",
      "c:\\Users\\Berk\\AppData\\Local\\Programs\\Python\\Python311\\Lib\\site-packages\\xgboost\\sklearn.py:1395: UserWarning: `use_label_encoder` is deprecated in 1.7.0.\n",
      "  warnings.warn(\"`use_label_encoder` is deprecated in 1.7.0.\")\n"
     ]
    },
    {
     "name": "stdout",
     "output_type": "stream",
     "text": [
      "accuracy score:0.8561616161616161\n",
      "CatBoost\n",
      "roc_auc score:0.8911557434813249\n",
      "f1 score:0.5852240896358544\n",
      "precision score:0.8933333333333333\n",
      "recall score:0.4606060606060606\n",
      "accuracy score:0.8709090909090911\n",
      "LightGBM\n",
      "roc_auc score:0.8829809725158562\n",
      "f1 score:0.6475125751441541\n",
      "precision score:0.7704545454545455\n",
      "recall score:0.5863636363636363\n",
      "accuracy score:0.8709090909090909\n"
     ]
    }
   ],
   "source": [
    "y = pt[\"potential_label\"]\n",
    "X = pt.drop([\"potential_label\", \"player_id\"], axis=1)\n",
    "\n",
    "models = [('LR', LogisticRegression()),\n",
    "          ('KNN', KNeighborsClassifier()),\n",
    "          (\"SVC\", SVC()),\n",
    "                   (\"CART\", DecisionTreeClassifier()),\n",
    "                   (\"RF\", RandomForestClassifier()),\n",
    "                   ('Adaboost', AdaBoostClassifier()),\n",
    "                   ('GBM', GradientBoostingClassifier()),\n",
    "                   ('XGBoost', XGBClassifier(use_label_encoder=False, eval_metric='logloss')),\n",
    "                   ('CatBoost', CatBoostClassifier(verbose=False)),\n",
    "              (\"LightGBM\", LGBMClassifier())]\n",
    "\n",
    "\n",
    "\n",
    "for name, model in models:\n",
    "    print(name)\n",
    "    for score in [\"roc_auc\", \"f1\", \"precision\", \"recall\", \"accuracy\"]:\n",
    "        cvs = cross_val_score(model, X, y, scoring=score, cv=5).mean()\n",
    "        print(score+\" score:\"+str(cvs))\n"
   ]
  },
  {
   "cell_type": "markdown",
   "metadata": {},
   "source": [
    "Adım 10: Değişkenlerin önem düzeyini belirten feature_importance fonksiyonunu kullanarak özelliklerin sıralamasını çizdiriniz.\n"
   ]
  },
  {
   "cell_type": "code",
   "execution_count": 15,
   "metadata": {},
   "outputs": [
    {
     "data": {
      "image/png": "[encoded data removed]",
      "text/plain": [
       "<Figure size 1000x1000 with 1 Axes>"
      ]
     },
     "metadata": {},
     "output_type": "display_data"
    }
   ],
   "source": [
    "def plot_importance(model,features,num=len(X),save=False):\n",
    "    feature_imp=pd.DataFrame({\"Value\":model.feature_importances_,\"Feature\":features.columns})\n",
    "    plt.figure(figsize=(10,10))\n",
    "    sns.set(font_scale=1)\n",
    "    sns.barplot(x=\"Value\",y=\"Feature\",data=feature_imp.sort_values(by=\"Value\",ascending=False)[0:num])\n",
    "    plt.title(\"Features\")\n",
    "    plt.tight_layout()\n",
    "    plt.show()\n",
    "    if save:\n",
    "        plt.savefig(\"importances.png\")\n",
    "model=LGBMClassifier()\n",
    "model.fit(X,y)\n",
    "plot_importance(model,X)"
   ]
  }
 ],
 "metadata": {
  "kernelspec": {
   "display_name": "Python 3.10.5 64-bit",
   "language": "python",
   "name": "python3"
  },
  "language_info": {
   "codemirror_mode": {
    "name": "ipython",
    "version": 3
   },
   "file_extension": ".py",
   "mimetype": "text/x-python",
   "name": "python",
   "nbconvert_exporter": "python",
   "pygments_lexer": "ipython3",
   "version": "3.11.3"
  },
  "orig_nbformat": 4,
  "vscode": {
   "interpreter": {
    "hash": "5026d2d6e7aaaaba093def813beadff083d8733e4a511af01735cbabd156995d"
   }
  }
 },
 "nbformat": 4,
 "nbformat_minor": 2
}
